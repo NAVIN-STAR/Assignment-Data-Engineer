{
 "cells": [
  {
   "cell_type": "code",
   "execution_count": 548,
   "id": "10e32a7d",
   "metadata": {},
   "outputs": [],
   "source": [
    "import os\n",
    "import datetime\n",
    "import json\n",
    "import rasterio"
   ]
  },
  {
   "cell_type": "code",
   "execution_count": 549,
   "id": "c2e6c2f8",
   "metadata": {},
   "outputs": [],
   "source": [
    "from pathlib import Path"
   ]
  },
  {
   "cell_type": "code",
   "execution_count": 558,
   "id": "f13bea71",
   "metadata": {},
   "outputs": [],
   "source": [
    "AnnualCropTif = []\n",
    "ForestTif = []\n",
    "HerbaceousVegetationTif = []\n",
    "ResidentialTif = []\n",
    "SeaLakeTif = []\n",
    "\n",
    "for x in range(1,3001):\n",
    "    y = str(x)\n",
    "    annualCrop = Path(\"tif\\AnnualCrop\\AnnualCrop_\"+y+\".tif\").name\n",
    "    forest = Path(\"tif\\Forest\\Forest_\"+y+\".tif\").name\n",
    "    HerbaceousVegetation = Path(\"tif\\HerbaceousVegetation\\HerbaceousVegetation_\"+y+\".tif\").name  \n",
    "    Residential = Path(\"tif\\Residential\\Residential_\"+y+\".tif\").name\n",
    "    SeaLake = Path(\"tif\\SeaLake\\SeaLake_\"+y+\".tif\").name\n",
    "    AnnualCropTif.append(annualCrop)\n",
    "    ForestTif.append(forest)\n",
    "    HerbaceousVegetationTif.append(HerbaceousVegetation)\n",
    "    ResidentialTif.append(Residential)  \n",
    "    SeaLakeTif.append(SeaLake)\n",
    " \n",
    "    \n",
    "\n",
    "    \n",
    "    \n",
    "    \n",
    "\n"
   ]
  },
  {
   "cell_type": "code",
   "execution_count": 559,
   "id": "f0d140c6",
   "metadata": {},
   "outputs": [],
   "source": [
    "IndustrialTif = []\n",
    "HighwayTif = []\n",
    "PermanentCropTif = []\n",
    "RiverTif = []\n",
    "\n",
    "for x in range(1,2501):\n",
    "    y = str(x)\n",
    "    Highway = Path(\"tif\\Highway\\Highway_\"+y+\".tif\").name\n",
    "    Industrial = Path(\"tif\\Industrial\\Industrial_\"+y+\".tif\").name\n",
    "    PermanentCrop = Path(\"tif\\PermanentCrop\\PermanentCrop_\"+y+\".tif\").name\n",
    "    River = Path(\"tif\\River\\River_\"+y+\".tif\").name\n",
    "    HighwayTif.append(Highway)\n",
    "    IndustrialTif.append(Industrial)\n",
    "    PermanentCropTif.append(PermanentCrop)\n",
    "    RiverTif.append(River)"
   ]
  },
  {
   "cell_type": "code",
   "execution_count": 560,
   "id": "02c13556",
   "metadata": {},
   "outputs": [],
   "source": [
    "PastureTif = []\n",
    "for x in range(1,2001):\n",
    "    y = str(x)\n",
    "    Pasture = Path(\"tif\\Pasture\\Pasture_\"+y+\".tif\").name\n",
    "    PastureTif.append(Pasture)"
   ]
  },
  {
   "cell_type": "code",
   "execution_count": 567,
   "id": "2ee3aa80",
   "metadata": {},
   "outputs": [],
   "source": [
    "AnnualCropfile = []\n",
    "forestfile = []\n",
    "HerbaceousVegetationfile = []\n",
    "Residentialfile = []\n",
    "SeaLakefile = []\n",
    "\n",
    "for x in range(1,3001):\n",
    "    y = str(x)\n",
    "    Crop = rasterio.open(\"tif\\AnnualCrop\\AnnualCrop_\"+y+\".tif\")\n",
    "    forest = rasterio.open(\"tif\\Forest\\Forest_\"+y+\".tif\")\n",
    "    vegetation = rasterio.open(\"tif\\HerbaceousVegetation\\HerbaceousVegetation_\"+y+\".tif\")      \n",
    "    resi = rasterio.open(\"tif\\Residential\\Residential_\"+y+\".tif\")\n",
    "    sealake = rasterio.open(\"tif\\SeaLake\\SeaLake_\"+y+\".tif\")\n",
    "    AnnualCropfile.append(Crop)\n",
    "    forestfile.append(forest)\n",
    "    HerbaceousVegetationfile.append(vegetation)\n",
    "    Residentialfile.append(resi)   \n",
    "    SeaLakefile.append(sealake)\n",
    "    \n",
    "   "
   ]
  },
  {
   "cell_type": "code",
   "execution_count": 569,
   "id": "1e11ab50",
   "metadata": {},
   "outputs": [],
   "source": [
    "Highwayfile = []\n",
    "Industrialfile = []\n",
    "PermanentCropfile = []\n",
    "Riverfile = []\n",
    "for x in range(1,2501):\n",
    "    y = str(x)\n",
    "    highway = rasterio.open(\"tif\\Highway\\Highway_\"+y+\".tif\")\n",
    "    industrial = rasterio.open(\"tif\\Industrial\\Industrial_\"+y+\".tif\")\n",
    "    permanent = rasterio.open(\"tif\\PermanentCrop\\PermanentCrop_\"+y+\".tif\")\n",
    "    river = rasterio.open(\"tif\\River\\River_\"+y+\".tif\")\n",
    "    Highwayfile.append(highway)\n",
    "    Industrialfile.append(industrial)\n",
    "    PermanentCropfile.append(permanent)\n",
    "    Riverfile.append(river)"
   ]
  },
  {
   "cell_type": "code",
   "execution_count": 582,
   "id": "5a80a09f",
   "metadata": {},
   "outputs": [],
   "source": [
    "Pasturefile = []\n",
    "for x in range(1,2001):\n",
    "    y = str(x)\n",
    "    pasture = rasterio.open(\"tif\\Pasture\\Pasture_\"+y+\".tif\")\n",
    "    Pasturefile.append(pasture) "
   ]
  },
  {
   "cell_type": "code",
   "execution_count": 589,
   "id": "79f3e1a6",
   "metadata": {},
   "outputs": [],
   "source": [
    "annual_bound = []\n",
    "annual_bound1 = []\n",
    "annual_bound2 = []\n",
    "annual_bound7 = []\n",
    "annual_bound9 = []\n",
    "for z in range(0,3000):\n",
    "    y = AnnualCropfile[z].bounds\n",
    "    y1 = forestfile[z].bounds\n",
    "    y2 = HerbaceousVegetationfile[z].bounds\n",
    "    y7 = Residentialfile[z].bounds\n",
    "    y9 = SeaLakefile[z].bounds\n",
    "    annual_bound.append(y)\n",
    "    annual_bound1.append(y1)    \n",
    "    annual_bound2.append(y2)\n",
    "    annual_bound7.append(y7)    \n",
    "    annual_bound9.append(y9) "
   ]
  },
  {
   "cell_type": "code",
   "execution_count": 591,
   "id": "7a56c4af",
   "metadata": {},
   "outputs": [],
   "source": [
    "\n",
    "annual_bound3 = []\n",
    "annual_bound4 = []\n",
    "annual_bound5 = []\n",
    "annual_bound8 = []\n",
    "\n",
    "\n",
    "for z in range(0,2500):\n",
    "\n",
    "    y3 = Highwayfile[z].bounds\n",
    "    y4 = Industrialfile[z].bounds\n",
    "    y5 = PermanentCropfile[z].bounds\n",
    "    y8 = Riverfile[z].bounds\n",
    "   \n",
    "    annual_bound3.append(y3)    \n",
    "    annual_bound4.append(y4)    \n",
    "    annual_bound5.append(y5)     \n",
    "    annual_bound8.append(y8)    \n",
    "   "
   ]
  },
  {
   "cell_type": "code",
   "execution_count": 592,
   "id": "3776683e",
   "metadata": {},
   "outputs": [],
   "source": [
    "annual_bound6 = []\n",
    "for z in range(0,2000):\n",
    "    y6 = Pasturefile[z].bounds    \n",
    "    annual_bound6.append(y6) \n",
    "    "
   ]
  },
  {
   "cell_type": "code",
   "execution_count": 646,
   "id": "a2e88a76",
   "metadata": {},
   "outputs": [],
   "source": [
    "from datetime import date"
   ]
  },
  {
   "cell_type": "code",
   "execution_count": 648,
   "id": "f3acb015",
   "metadata": {},
   "outputs": [],
   "source": [
    "today = date.today()"
   ]
  },
  {
   "cell_type": "code",
   "execution_count": 650,
   "id": "cc13ddbd",
   "metadata": {},
   "outputs": [],
   "source": [
    "date_year = today.strftime(\"%B %d, %Y\")"
   ]
  },
  {
   "cell_type": "code",
   "execution_count": 651,
   "id": "9c7a2e6e",
   "metadata": {},
   "outputs": [],
   "source": [
    "list = os.listdir('tif')"
   ]
  },
  {
   "cell_type": "code",
   "execution_count": 652,
   "id": "20502ddb",
   "metadata": {},
   "outputs": [],
   "source": [
    "jdson = []\n",
    "for x in range(0,3000):\n",
    "    js = {\n",
    "        \"name\":AnnualCropTif[x],\n",
    "        \"date\":date_year,\n",
    "        \"label\":list[0],\n",
    "        'bounds':annual_bound[x],\n",
    "    },{\n",
    "        \"name\":ForestTif[x],\n",
    "        \"date\":date_year,\n",
    "        \"label\":list[0],\n",
    "        'bounds':annual_bound1[x],\n",
    "    },{\n",
    "        \"name\":HerbaceousVegetationTif[x],\n",
    "        \"date\":date_year,\n",
    "        \"label\":list[0],\n",
    "        'bounds':annual_bound2[x],\n",
    "    },{\n",
    "        \"name\":ResidentialTif[x],\n",
    "        \"date\":date_year,\n",
    "        \"label\":list[0],\n",
    "        'bounds':annual_bound7[x],\n",
    "    },{\n",
    "        \"name\":SeaLakeTif[x],\n",
    "        \"date\":date_year,\n",
    "        \"label\":list[0],\n",
    "        'bounds':annual_bound9[x]\n",
    "    }\n",
    "    \n",
    "    jdson.append(js)\n",
    "     \n",
    "for tw in range(0,2500):\n",
    "    js2 = {\n",
    "        \"name\":HighwayTif[tw],\n",
    "        \"date\":date_year,\n",
    "        \"label\":list[0],\n",
    "        'bounds':annual_bound3[tw],\n",
    "    },{\n",
    "        \"name\":IndustrialTif[tw],\n",
    "        \"date\":date_year,\n",
    "        \"label\":list[0],\n",
    "        'bounds':annual_bound4[tw],\n",
    "    },{\n",
    "        \"name\":PermanentCropTif[tw],\n",
    "        \"date\":date_year,\n",
    "        \"label\":list[0],\n",
    "        'bounds':annual_bound5[tw],\n",
    "    },{\n",
    "        \"name\":RiverTif[tw],\n",
    "        \"date\":date_year,\n",
    "        \"label\":list[0],\n",
    "        'bounds':annual_bound8[tw],\n",
    "    }\n",
    "    jdson.append(js2)\n",
    "    \n",
    "         \n",
    "         \n",
    "for twy in range(0,2000):\n",
    "    js3 ={\n",
    "        \"name\":PastureTif[twy],\n",
    "        \"date\":date_year,\n",
    "        \"label\":list[0],\n",
    "        'bounds':annual_bound6[twy],\n",
    "    }\n",
    "    jdson.append(js3)\n",
    "    \n",
    "          \n",
    "            \n",
    "    \n",
    "             \n",
    "            \n",
    "   \n",
    "    \n",
    "\n",
    "    \n"
   ]
  },
  {
   "cell_type": "code",
   "execution_count": 653,
   "id": "9b26915e",
   "metadata": {},
   "outputs": [],
   "source": [
    "a = json.dumps(jdson,indent=4)    "
   ]
  },
  {
   "cell_type": "code",
   "execution_count": 654,
   "id": "f5c0d3e4",
   "metadata": {},
   "outputs": [],
   "source": [
    "with open(\"D:\\\\data3.json\",\"w\") as f:\n",
    "    f.write(\"\\n\")\n",
    "    f.write(a)"
   ]
  },
  {
   "cell_type": "code",
   "execution_count": null,
   "id": "5e4c41ba",
   "metadata": {},
   "outputs": [],
   "source": []
  },
  {
   "cell_type": "code",
   "execution_count": null,
   "id": "ad3c322a",
   "metadata": {},
   "outputs": [],
   "source": []
  }
 ],
 "metadata": {
  "kernelspec": {
   "display_name": "Python 3 (ipykernel)",
   "language": "python",
   "name": "python3"
  },
  "language_info": {
   "codemirror_mode": {
    "name": "ipython",
    "version": 3
   },
   "file_extension": ".py",
   "mimetype": "text/x-python",
   "name": "python",
   "nbconvert_exporter": "python",
   "pygments_lexer": "ipython3",
   "version": "3.9.7"
  }
 },
 "nbformat": 4,
 "nbformat_minor": 5
}
